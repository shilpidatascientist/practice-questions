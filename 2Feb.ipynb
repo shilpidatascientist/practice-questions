{
 "cells": [
  {
   "cell_type": "markdown",
   "id": "e7bcf34d-02a8-49e7-bcdf-31d91fbdbd9b",
   "metadata": {},
   "source": [
    "Assignment\n",
    "1.\tTuples are immutable, they cannot be modified"
   ]
  },
  {
   "cell_type": "markdown",
   "id": "ea617f39-5999-4c44-99df-1f8f3eee0cc8",
   "metadata": {},
   "source": [
    "2.\tSince they cannot be modified, there are only 2 methods in tuple. They are:\n",
    "Count(): It counts the availability of the item\n",
    "Index(): It returns the index of the item"
   ]
  },
  {
   "cell_type": "code",
   "execution_count": 1,
   "id": "74e6df27-c2d7-4312-9fe9-41ce0eef58fb",
   "metadata": {},
   "outputs": [
    {
     "data": {
      "text/plain": [
       "1"
      ]
     },
     "execution_count": 1,
     "metadata": {},
     "output_type": "execute_result"
    }
   ],
   "source": [
    "t1=(1,2,3,\"Shilpi\",45+7j)\n",
    "t1.count(3)"
   ]
  },
  {
   "cell_type": "code",
   "execution_count": 3,
   "id": "462d9ee4-fe40-418d-99d8-435297bcbfba",
   "metadata": {},
   "outputs": [
    {
     "data": {
      "text/plain": [
       "3"
      ]
     },
     "execution_count": 3,
     "metadata": {},
     "output_type": "execute_result"
    }
   ],
   "source": [
    "t1.index(\"Shilpi\")"
   ]
  },
  {
   "cell_type": "markdown",
   "id": "705985dd-2f3c-4e5c-b0e7-3c19b06cc7d7",
   "metadata": {},
   "source": [
    "3.\tSet is a collection of Unique values. Set does not allow duplicate items.\n"
   ]
  },
  {
   "cell_type": "code",
   "execution_count": 4,
   "id": "54b6c61a-876c-4a72-9163-f4f28d54e0a7",
   "metadata": {},
   "outputs": [],
   "source": [
    "List = [1, 1, 1, 2, 1, 3, 1, 4, 2, 1, 2, 2, 2, 3, 2, 4, 3, 1, 3, 2, 3, 3, 3, 4, 4, 1, 4, 2, 4, 3, 4, 4]\n",
    "set1=set(List)"
   ]
  },
  {
   "cell_type": "code",
   "execution_count": 5,
   "id": "c965b7f5-720d-4226-b367-7083261efbf2",
   "metadata": {},
   "outputs": [
    {
     "data": {
      "text/plain": [
       "{1, 2, 3, 4}"
      ]
     },
     "execution_count": 5,
     "metadata": {},
     "output_type": "execute_result"
    }
   ],
   "source": [
    "set1"
   ]
  },
  {
   "cell_type": "markdown",
   "id": "ffb3c30d-48ba-4d12-afdb-0a31f9c8219f",
   "metadata": {},
   "source": [
    "4.\tUpdate() : It updates the target set with the values available in the set that is passed in the parameter.\n",
    "    Union() : Returns all the elements that are in either sets"
   ]
  },
  {
   "cell_type": "code",
   "execution_count": 8,
   "id": "e193fc86-e3a5-48f8-86c3-4d1c02ee27d3",
   "metadata": {},
   "outputs": [
    {
     "data": {
      "text/plain": [
       "{1, 2, 3, 4, 6}"
      ]
     },
     "execution_count": 8,
     "metadata": {},
     "output_type": "execute_result"
    }
   ],
   "source": [
    "set1={1,2,3,4}\n",
    "set4={6}\n",
    "set4.update(set1)\n",
    "set4"
   ]
  },
  {
   "cell_type": "code",
   "execution_count": 10,
   "id": "7fd876aa-cc93-465f-831f-5c854811d658",
   "metadata": {},
   "outputs": [
    {
     "data": {
      "text/plain": [
       "{1, 2, 3, 4, 6}"
      ]
     },
     "execution_count": 10,
     "metadata": {},
     "output_type": "execute_result"
    }
   ],
   "source": [
    "set5={1,2,3,4}\n",
    "set4={1,2,3,4,6}\n",
    "set4.union(set5)\n",
    "set4"
   ]
  },
  {
   "cell_type": "markdown",
   "id": "246ada29-1fb9-45ae-9274-a3b2175c1e70",
   "metadata": {},
   "source": [
    "5.\tDictionary is a collection that contains keys and its values. It is unordered."
   ]
  },
  {
   "cell_type": "code",
   "execution_count": 11,
   "id": "867f0048-de7c-4bed-b633-5a2b4547284a",
   "metadata": {},
   "outputs": [
    {
     "data": {
      "text/plain": [
       "{'name': 'Shilpi', 'surname': 'Agrawal'}"
      ]
     },
     "execution_count": 11,
     "metadata": {},
     "output_type": "execute_result"
    }
   ],
   "source": [
    "d7={\"name\":\"Shilpi\",\"surname\":\"Agrawal\"}\n",
    "d7"
   ]
  },
  {
   "cell_type": "markdown",
   "id": "e4c39c39-ba68-4aeb-bbaa-7172f2236990",
   "metadata": {},
   "source": [
    "6.\tYes we can create a nested dictionary."
   ]
  },
  {
   "cell_type": "code",
   "execution_count": 12,
   "id": "709f22b7-c54f-411e-be56-32ca237fa33f",
   "metadata": {},
   "outputs": [
    {
     "data": {
      "text/plain": [
       "{'key': {'name': 'Shilpi'}}"
      ]
     },
     "execution_count": 12,
     "metadata": {},
     "output_type": "execute_result"
    }
   ],
   "source": [
    "d5={\"key\":{\"name\":\"Shilpi\"}}\n",
    "d5"
   ]
  },
  {
   "cell_type": "markdown",
   "id": "f9d84bd9-e720-41df-9274-788bab5f5106",
   "metadata": {},
   "source": [
    "7.\t"
   ]
  },
  {
   "cell_type": "code",
   "execution_count": 13,
   "id": "5280d38e-bfad-4faf-aa81-a0336634deae",
   "metadata": {},
   "outputs": [
    {
     "data": {
      "text/plain": [
       "{'language': 'Python',\n",
       " 'course': 'Data Science Masters',\n",
       " 'topics': ['Python', 'Machine Learning', 'Data Science Masters']}"
      ]
     },
     "execution_count": 13,
     "metadata": {},
     "output_type": "execute_result"
    }
   ],
   "source": [
    "dict1 = {'language' : 'Python', 'course': 'Data Science Masters'}\n",
    "dict1.setdefault('topics',['Python','Machine Learning','Data Science Masters'])\n",
    "dict1"
   ]
  },
  {
   "cell_type": "markdown",
   "id": "436dac91-b98d-407d-bd92-1c52f2c97881",
   "metadata": {},
   "source": [
    "8.\t"
   ]
  },
  {
   "cell_type": "code",
   "execution_count": 17,
   "id": "0b37af74-acb1-49cc-8803-857bed56eeac",
   "metadata": {},
   "outputs": [
    {
     "data": {
      "text/plain": [
       "dict_items([('language', 'Python'), ('course', 'Data Science Masters'), ('topics', ['Python', 'Machine Learning', 'Data Science Masters'])])"
      ]
     },
     "execution_count": 17,
     "metadata": {},
     "output_type": "execute_result"
    }
   ],
   "source": [
    "dict1.items()"
   ]
  },
  {
   "cell_type": "code",
   "execution_count": 16,
   "id": "086b2a05-9610-440e-afde-fecad79513da",
   "metadata": {},
   "outputs": [
    {
     "data": {
      "text/plain": [
       "dict_keys(['language', 'course', 'topics'])"
      ]
     },
     "execution_count": 16,
     "metadata": {},
     "output_type": "execute_result"
    }
   ],
   "source": [
    "dict1.keys()"
   ]
  },
  {
   "cell_type": "code",
   "execution_count": 15,
   "id": "02ab6454-5789-42dd-a5c7-0b98a5dcd0b0",
   "metadata": {},
   "outputs": [
    {
     "data": {
      "text/plain": [
       "dict_values(['Python', 'Data Science Masters', ['Python', 'Machine Learning', 'Data Science Masters']])"
      ]
     },
     "execution_count": 15,
     "metadata": {},
     "output_type": "execute_result"
    }
   ],
   "source": [
    "dict1.values()"
   ]
  },
  {
   "cell_type": "code",
   "execution_count": null,
   "id": "d0145fcc-2262-407a-953e-93a9d4a55bc6",
   "metadata": {},
   "outputs": [],
   "source": []
  }
 ],
 "metadata": {
  "kernelspec": {
   "display_name": "Python 3 (ipykernel)",
   "language": "python",
   "name": "python3"
  },
  "language_info": {
   "codemirror_mode": {
    "name": "ipython",
    "version": 3
   },
   "file_extension": ".py",
   "mimetype": "text/x-python",
   "name": "python",
   "nbconvert_exporter": "python",
   "pygments_lexer": "ipython3",
   "version": "3.10.8"
  }
 },
 "nbformat": 4,
 "nbformat_minor": 5
}
